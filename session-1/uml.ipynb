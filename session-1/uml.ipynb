{
 "metadata": {
  "language_info": {
   "codemirror_mode": {
    "name": "ipython",
    "version": 3
   },
   "file_extension": ".py",
   "mimetype": "text/x-python",
   "name": "python",
   "nbconvert_exporter": "python",
   "pygments_lexer": "ipython3",
   "version": "3.8.10"
  },
  "orig_nbformat": 4,
  "kernelspec": {
   "name": "python3",
   "display_name": "Python 3.8.10 64-bit ('thesis_env': venv)"
  },
  "interpreter": {
   "hash": "2c8570d5e2d82a34cb4b898b661982eea3f59281313cb12bc1a914245ee63b4f"
  }
 },
 "nbformat": 4,
 "nbformat_minor": 2,
 "cells": [
  {
   "source": [
    "# UML python class implementation\n",
    "___\n",
    "\n",
    "> - if double underscore is used then python interprets that as private variable and doesn't allow access to it from inherited classes. So in this case single underscore is used to indicate \"protected\" variable even though you can still modify it directly from outside scope. The \"_\" and \"__\" usually indicates to stay away from a variable since it's private or protected.\n",
    "\n",
    "> - move() function of Animal base class is a virtual function which is then defined in child classes."
   ],
   "cell_type": "markdown",
   "metadata": {}
  },
  {
   "cell_type": "code",
   "execution_count": 1,
   "metadata": {},
   "outputs": [],
   "source": [
    "class Animal(object):\n",
    "    def __init__(self):\n",
    "        super().__init__()\n",
    "        self._hungerPerc = 0.5\n",
    "    \n",
    "    def getHungerPerc(self):\n",
    "        return self._hungerPerc\n",
    "\n",
    "    def eat(self):\n",
    "        self._hungerPerc -= 0.1\n",
    "        self._hungerPerc = max(0, self._hungerPerc)\n",
    "    \n",
    "    def sleep(self, hours):\n",
    "        self._hungerPerc += hours * 0.1\n",
    "        self._hungerPerc = min(1, self._hungerPerc)\n",
    "\n",
    "    def move(self):\n",
    "        pass"
   ]
  },
  {
   "cell_type": "code",
   "execution_count": 2,
   "metadata": {},
   "outputs": [],
   "source": [
    "class Dog(Animal):\n",
    "    def __init__(self):\n",
    "        super().__init__()\n",
    "        self.__bonesHidden = 0\n",
    "    \n",
    "    def move(self):\n",
    "        self._hungerPerc += 1e-1\n",
    "        self._hungerPerc = min(1, self._hungerPerc)\n",
    "    \n",
    "    def bark(self):\n",
    "        print(\"Woof woof.\")\n",
    "\n",
    "\n",
    "class Cat(Animal):\n",
    "    def __init__(self):\n",
    "        super().__init__()\n",
    "        self.__itemsDestoryed = 0\n",
    "    \n",
    "    def move(self):\n",
    "        self._hungerPerc += 1e-2\n",
    "        self._hungerPerc = min(1, self._hungerPerc)\n",
    "    \n",
    "    def meow(self):\n",
    "        print(\"Meow.\")\n",
    "\n",
    "class Robot:\n",
    "    def __init__(self):\n",
    "        super().__init__()\n",
    "        self.__batteryPerc = 1.0\n",
    "    \n",
    "    def move(self):\n",
    "        self.__batteryPerc -= 1e-1\n",
    "        self.__batteryPerc = max(0, self.__batteryPerc)\n",
    "    \n",
    "    def charge(self, hours):\n",
    "        self.__batteryPerc += 1e-1 * hours\n",
    "        self.__batteryPerc = min(1, self.__batteryPerc)"
   ]
  },
  {
   "cell_type": "code",
   "execution_count": 3,
   "metadata": {},
   "outputs": [
    {
     "output_type": "stream",
     "name": "stdout",
     "text": [
      "entity: 0.6\nWoof woof.\nentity: 0.6\nWoof woof.\nentity: 0.51\n"
     ]
    }
   ],
   "source": [
    "whoIsInTheRoom = []\n",
    "whoIsInTheRoom.append(Dog())\n",
    "dog_1 = Dog()\n",
    "whoIsInTheRoom.append(dog_1)\n",
    "whoIsInTheRoom.append(Cat())\n",
    "whoIsInTheRoom.append(Robot())\n",
    "\n",
    "for entity in whoIsInTheRoom:\n",
    "    entity.move()\n",
    "    if isinstance(entity, Animal):\n",
    "        print(f'entity: {entity.getHungerPerc()}')\n",
    "        entity.eat()\n",
    "        if isinstance(entity, Dog):\n",
    "            entity.bark()\n",
    "    elif isinstance(entity, Robot):\n",
    "        entity.charge(hours=2)\n",
    "        "
   ]
  },
  {
   "cell_type": "code",
   "execution_count": 5,
   "metadata": {},
   "outputs": [
    {
     "output_type": "stream",
     "name": "stdout",
     "text": [
      "0.5\n0.6\n0.7\n0.7\n"
     ]
    }
   ],
   "source": [
    "dog_1 = Dog()\n",
    "# dog_1 IS A POINTER TO INSTANCE\n",
    "\n",
    "print(dog_1.getHungerPerc())  # 0.5\n",
    "dog_1.move()\n",
    "print(dog_1.getHungerPerc())  # 0.6\n",
    "dog_2 = dog_1  # pointer\n",
    "dog_2.move()\n",
    "\n",
    "print(dog_1.getHungerPerc())  # value1\n",
    "print(dog_2.getHungerPerc())"
   ]
  },
  {
   "cell_type": "code",
   "execution_count": 6,
   "metadata": {},
   "outputs": [
    {
     "output_type": "stream",
     "name": "stdout",
     "text": [
      "float_1 6\nfloat_2 5\nlist_1 [4, 5, 6, 7]\nlist_2 [4, 5, 6, 7]\n"
     ]
    }
   ],
   "source": [
    "float_1 = 4\n",
    "float_2 = 5\n",
    "float_1 = float_2\n",
    "float_1 = 6\n",
    "\n",
    "print('float_1', float_1)\n",
    "print('float_2', float_2)\n",
    "\n",
    "list_1 = [1, 2, 3]  # is a pointer !!!\n",
    "list_2 = [4, 5, 6]\n",
    "list_1 = list_2\n",
    "list_1.append(7)\n",
    "\n",
    "print('list_1', list_1)\n",
    "print('list_2', list_2)\n",
    "\n",
    "def modify_list(list_3):\n",
    "    del list_3[1]\n",
    "    return list_3\n",
    "\n",
    "list_4 = [1, 2, 3]\n",
    "list_5 = modify_list(list_4)"
   ]
  },
  {
   "cell_type": "code",
   "execution_count": null,
   "metadata": {},
   "outputs": [],
   "source": []
  }
 ]
}