{
 "metadata": {
  "language_info": {
   "codemirror_mode": {
    "name": "ipython",
    "version": 3
   },
   "file_extension": ".py",
   "mimetype": "text/x-python",
   "name": "python",
   "nbconvert_exporter": "python",
   "pygments_lexer": "ipython3",
   "version": "3.8.10"
  },
  "orig_nbformat": 4,
  "kernelspec": {
   "name": "python3",
   "display_name": "Python 3.8.10 64-bit ('thesis_env': venv)"
  },
  "interpreter": {
   "hash": "2c8570d5e2d82a34cb4b898b661982eea3f59281313cb12bc1a914245ee63b4f"
  }
 },
 "nbformat": 4,
 "nbformat_minor": 2,
 "cells": [
  {
   "source": [
    "# Power function\n",
    "\n",
    "### f(x, n) = x^n\n",
    "\n",
    "Simple using recursion"
   ],
   "cell_type": "markdown",
   "metadata": {}
  },
  {
   "cell_type": "code",
   "execution_count": 4,
   "metadata": {},
   "outputs": [],
   "source": [
    "def pow(num, exp):\n",
    "    if exp > 0:\n",
    "        return num * pow(num, exp - 1)\n",
    "    else:\n",
    "        return 1"
   ]
  },
  {
   "cell_type": "code",
   "execution_count": 3,
   "metadata": {},
   "outputs": [
    {
     "output_type": "stream",
     "name": "stdout",
     "text": [
      "16\n3\n1\n125\n"
     ]
    }
   ],
   "source": [
    "print(pow(num=2, exp=4))\n",
    "print(pow(num=3, exp=1))\n",
    "print(pow(num=10, exp=0))\n",
    "print(pow(num=5, exp=3))"
   ]
  },
  {
   "cell_type": "code",
   "execution_count": null,
   "metadata": {},
   "outputs": [],
   "source": []
  }
 ]
}